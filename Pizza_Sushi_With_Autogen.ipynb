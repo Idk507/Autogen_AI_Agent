{
  "nbformat": 4,
  "nbformat_minor": 0,
  "metadata": {
    "colab": {
      "provenance": []
    },
    "kernelspec": {
      "name": "python3",
      "display_name": "Python 3"
    },
    "language_info": {
      "name": "python"
    }
  },
  "cells": [
    {
      "cell_type": "code",
      "execution_count": 1,
      "metadata": {
        "colab": {
          "base_uri": "https://localhost:8080/"
        },
        "id": "5KX_IdAe-j2L",
        "outputId": "72b89c62-ac32-473b-9a23-9a6cff004d99"
      },
      "outputs": [
        {
          "output_type": "stream",
          "name": "stdout",
          "text": [
            "Requirement already satisfied: pyautogen in /usr/local/lib/python3.10/dist-packages (0.3.1)\n",
            "Requirement already satisfied: diskcache in /usr/local/lib/python3.10/dist-packages (from pyautogen) (5.6.3)\n",
            "Requirement already satisfied: docker in /usr/local/lib/python3.10/dist-packages (from pyautogen) (7.1.0)\n",
            "Requirement already satisfied: flaml in /usr/local/lib/python3.10/dist-packages (from pyautogen) (2.3.1)\n",
            "Requirement already satisfied: numpy<2,>=1.17.0 in /usr/local/lib/python3.10/dist-packages (from pyautogen) (1.26.4)\n",
            "Requirement already satisfied: openai>=1.3 in /usr/local/lib/python3.10/dist-packages (from pyautogen) (1.51.2)\n",
            "Requirement already satisfied: packaging in /usr/local/lib/python3.10/dist-packages (from pyautogen) (24.1)\n",
            "Requirement already satisfied: pydantic!=2.6.0,<3,>=1.10 in /usr/local/lib/python3.10/dist-packages (from pyautogen) (2.9.2)\n",
            "Requirement already satisfied: python-dotenv in /usr/local/lib/python3.10/dist-packages (from pyautogen) (1.0.1)\n",
            "Requirement already satisfied: termcolor in /usr/local/lib/python3.10/dist-packages (from pyautogen) (2.4.0)\n",
            "Requirement already satisfied: tiktoken in /usr/local/lib/python3.10/dist-packages (from pyautogen) (0.8.0)\n",
            "Requirement already satisfied: anyio<5,>=3.5.0 in /usr/local/lib/python3.10/dist-packages (from openai>=1.3->pyautogen) (3.7.1)\n",
            "Requirement already satisfied: distro<2,>=1.7.0 in /usr/lib/python3/dist-packages (from openai>=1.3->pyautogen) (1.7.0)\n",
            "Requirement already satisfied: httpx<1,>=0.23.0 in /usr/local/lib/python3.10/dist-packages (from openai>=1.3->pyautogen) (0.27.2)\n",
            "Requirement already satisfied: jiter<1,>=0.4.0 in /usr/local/lib/python3.10/dist-packages (from openai>=1.3->pyautogen) (0.6.1)\n",
            "Requirement already satisfied: sniffio in /usr/local/lib/python3.10/dist-packages (from openai>=1.3->pyautogen) (1.3.1)\n",
            "Requirement already satisfied: tqdm>4 in /usr/local/lib/python3.10/dist-packages (from openai>=1.3->pyautogen) (4.66.5)\n",
            "Requirement already satisfied: typing-extensions<5,>=4.11 in /usr/local/lib/python3.10/dist-packages (from openai>=1.3->pyautogen) (4.12.2)\n",
            "Requirement already satisfied: annotated-types>=0.6.0 in /usr/local/lib/python3.10/dist-packages (from pydantic!=2.6.0,<3,>=1.10->pyautogen) (0.7.0)\n",
            "Requirement already satisfied: pydantic-core==2.23.4 in /usr/local/lib/python3.10/dist-packages (from pydantic!=2.6.0,<3,>=1.10->pyautogen) (2.23.4)\n",
            "Requirement already satisfied: requests>=2.26.0 in /usr/local/lib/python3.10/dist-packages (from docker->pyautogen) (2.32.3)\n",
            "Requirement already satisfied: urllib3>=1.26.0 in /usr/local/lib/python3.10/dist-packages (from docker->pyautogen) (2.2.3)\n",
            "Requirement already satisfied: regex>=2022.1.18 in /usr/local/lib/python3.10/dist-packages (from tiktoken->pyautogen) (2024.9.11)\n",
            "Requirement already satisfied: idna>=2.8 in /usr/local/lib/python3.10/dist-packages (from anyio<5,>=3.5.0->openai>=1.3->pyautogen) (3.10)\n",
            "Requirement already satisfied: exceptiongroup in /usr/local/lib/python3.10/dist-packages (from anyio<5,>=3.5.0->openai>=1.3->pyautogen) (1.2.2)\n",
            "Requirement already satisfied: certifi in /usr/local/lib/python3.10/dist-packages (from httpx<1,>=0.23.0->openai>=1.3->pyautogen) (2024.8.30)\n",
            "Requirement already satisfied: httpcore==1.* in /usr/local/lib/python3.10/dist-packages (from httpx<1,>=0.23.0->openai>=1.3->pyautogen) (1.0.6)\n",
            "Requirement already satisfied: h11<0.15,>=0.13 in /usr/local/lib/python3.10/dist-packages (from httpcore==1.*->httpx<1,>=0.23.0->openai>=1.3->pyautogen) (0.14.0)\n",
            "Requirement already satisfied: charset-normalizer<4,>=2 in /usr/local/lib/python3.10/dist-packages (from requests>=2.26.0->docker->pyautogen) (3.3.2)\n",
            "\u001b[31mERROR: Could not find a version that satisfies the requirement python-dev (from versions: none)\u001b[0m\u001b[31m\n",
            "\u001b[0m\u001b[31mERROR: No matching distribution found for python-dev\u001b[0m\u001b[31m\n",
            "\u001b[0mRequirement already satisfied: pyautogen[anthropic] in /usr/local/lib/python3.10/dist-packages (0.3.1)\n",
            "Requirement already satisfied: diskcache in /usr/local/lib/python3.10/dist-packages (from pyautogen[anthropic]) (5.6.3)\n",
            "Requirement already satisfied: docker in /usr/local/lib/python3.10/dist-packages (from pyautogen[anthropic]) (7.1.0)\n",
            "Requirement already satisfied: flaml in /usr/local/lib/python3.10/dist-packages (from pyautogen[anthropic]) (2.3.1)\n",
            "Requirement already satisfied: numpy<2,>=1.17.0 in /usr/local/lib/python3.10/dist-packages (from pyautogen[anthropic]) (1.26.4)\n",
            "Requirement already satisfied: openai>=1.3 in /usr/local/lib/python3.10/dist-packages (from pyautogen[anthropic]) (1.51.2)\n",
            "Requirement already satisfied: packaging in /usr/local/lib/python3.10/dist-packages (from pyautogen[anthropic]) (24.1)\n",
            "Requirement already satisfied: pydantic!=2.6.0,<3,>=1.10 in /usr/local/lib/python3.10/dist-packages (from pyautogen[anthropic]) (2.9.2)\n",
            "Requirement already satisfied: python-dotenv in /usr/local/lib/python3.10/dist-packages (from pyautogen[anthropic]) (1.0.1)\n",
            "Requirement already satisfied: termcolor in /usr/local/lib/python3.10/dist-packages (from pyautogen[anthropic]) (2.4.0)\n",
            "Requirement already satisfied: tiktoken in /usr/local/lib/python3.10/dist-packages (from pyautogen[anthropic]) (0.8.0)\n",
            "Requirement already satisfied: anthropic>=0.23.1 in /usr/local/lib/python3.10/dist-packages (from pyautogen[anthropic]) (0.36.0)\n",
            "Requirement already satisfied: anyio<5,>=3.5.0 in /usr/local/lib/python3.10/dist-packages (from anthropic>=0.23.1->pyautogen[anthropic]) (3.7.1)\n",
            "Requirement already satisfied: distro<2,>=1.7.0 in /usr/lib/python3/dist-packages (from anthropic>=0.23.1->pyautogen[anthropic]) (1.7.0)\n",
            "Requirement already satisfied: httpx<1,>=0.23.0 in /usr/local/lib/python3.10/dist-packages (from anthropic>=0.23.1->pyautogen[anthropic]) (0.27.2)\n",
            "Requirement already satisfied: jiter<1,>=0.4.0 in /usr/local/lib/python3.10/dist-packages (from anthropic>=0.23.1->pyautogen[anthropic]) (0.6.1)\n",
            "Requirement already satisfied: sniffio in /usr/local/lib/python3.10/dist-packages (from anthropic>=0.23.1->pyautogen[anthropic]) (1.3.1)\n",
            "Requirement already satisfied: tokenizers>=0.13.0 in /usr/local/lib/python3.10/dist-packages (from anthropic>=0.23.1->pyautogen[anthropic]) (0.19.1)\n",
            "Requirement already satisfied: typing-extensions<5,>=4.7 in /usr/local/lib/python3.10/dist-packages (from anthropic>=0.23.1->pyautogen[anthropic]) (4.12.2)\n",
            "Requirement already satisfied: tqdm>4 in /usr/local/lib/python3.10/dist-packages (from openai>=1.3->pyautogen[anthropic]) (4.66.5)\n",
            "Requirement already satisfied: annotated-types>=0.6.0 in /usr/local/lib/python3.10/dist-packages (from pydantic!=2.6.0,<3,>=1.10->pyautogen[anthropic]) (0.7.0)\n",
            "Requirement already satisfied: pydantic-core==2.23.4 in /usr/local/lib/python3.10/dist-packages (from pydantic!=2.6.0,<3,>=1.10->pyautogen[anthropic]) (2.23.4)\n",
            "Requirement already satisfied: requests>=2.26.0 in /usr/local/lib/python3.10/dist-packages (from docker->pyautogen[anthropic]) (2.32.3)\n",
            "Requirement already satisfied: urllib3>=1.26.0 in /usr/local/lib/python3.10/dist-packages (from docker->pyautogen[anthropic]) (2.2.3)\n",
            "Requirement already satisfied: regex>=2022.1.18 in /usr/local/lib/python3.10/dist-packages (from tiktoken->pyautogen[anthropic]) (2024.9.11)\n",
            "Requirement already satisfied: idna>=2.8 in /usr/local/lib/python3.10/dist-packages (from anyio<5,>=3.5.0->anthropic>=0.23.1->pyautogen[anthropic]) (3.10)\n",
            "Requirement already satisfied: exceptiongroup in /usr/local/lib/python3.10/dist-packages (from anyio<5,>=3.5.0->anthropic>=0.23.1->pyautogen[anthropic]) (1.2.2)\n",
            "Requirement already satisfied: certifi in /usr/local/lib/python3.10/dist-packages (from httpx<1,>=0.23.0->anthropic>=0.23.1->pyautogen[anthropic]) (2024.8.30)\n",
            "Requirement already satisfied: httpcore==1.* in /usr/local/lib/python3.10/dist-packages (from httpx<1,>=0.23.0->anthropic>=0.23.1->pyautogen[anthropic]) (1.0.6)\n",
            "Requirement already satisfied: h11<0.15,>=0.13 in /usr/local/lib/python3.10/dist-packages (from httpcore==1.*->httpx<1,>=0.23.0->anthropic>=0.23.1->pyautogen[anthropic]) (0.14.0)\n",
            "Requirement already satisfied: charset-normalizer<4,>=2 in /usr/local/lib/python3.10/dist-packages (from requests>=2.26.0->docker->pyautogen[anthropic]) (3.3.2)\n",
            "Requirement already satisfied: huggingface-hub<1.0,>=0.16.4 in /usr/local/lib/python3.10/dist-packages (from tokenizers>=0.13.0->anthropic>=0.23.1->pyautogen[anthropic]) (0.24.7)\n",
            "Requirement already satisfied: filelock in /usr/local/lib/python3.10/dist-packages (from huggingface-hub<1.0,>=0.16.4->tokenizers>=0.13.0->anthropic>=0.23.1->pyautogen[anthropic]) (3.16.1)\n",
            "Requirement already satisfied: fsspec>=2023.5.0 in /usr/local/lib/python3.10/dist-packages (from huggingface-hub<1.0,>=0.16.4->tokenizers>=0.13.0->anthropic>=0.23.1->pyautogen[anthropic]) (2024.6.1)\n",
            "Requirement already satisfied: pyyaml>=5.1 in /usr/local/lib/python3.10/dist-packages (from huggingface-hub<1.0,>=0.16.4->tokenizers>=0.13.0->anthropic>=0.23.1->pyautogen[anthropic]) (6.0.2)\n"
          ]
        }
      ],
      "source": [
        "!pip install pyautogen\n",
        "!pip install python-dev\n",
        "!pip install \"pyautogen[anthropic]\""
      ]
    },
    {
      "cell_type": "code",
      "source": [
        "import os\n",
        "from google.colab import drive\n",
        "drive.mount('/content/drive')"
      ],
      "metadata": {
        "colab": {
          "base_uri": "https://localhost:8080/"
        },
        "id": "4lFt7Z7i_fsf",
        "outputId": "35134db4-7073-4b90-fa58-7efef295f6df"
      },
      "execution_count": 2,
      "outputs": [
        {
          "output_type": "stream",
          "name": "stdout",
          "text": [
            "Drive already mounted at /content/drive; to attempt to forcibly remount, call drive.mount(\"/content/drive\", force_remount=True).\n"
          ]
        }
      ]
    },
    {
      "cell_type": "code",
      "source": [
        "from autogen import ConversableAgent\n"
      ],
      "metadata": {
        "id": "czp_OUvY_skT"
      },
      "execution_count": 15,
      "outputs": []
    },
    {
      "cell_type": "code",
      "source": [
        "\n",
        "config_list_gemini = [\n",
        "    {\n",
        "        \"model\": \"gemini-1.5-pro-latest\",\n",
        "        \"api_key\": \"\",\n",
        "        \"api_type\": \"google\"\n",
        "    }\n",
        "]\n"
      ],
      "metadata": {
        "id": "ddWAoGj6AG9T"
      },
      "execution_count": 17,
      "outputs": []
    },
    {
      "cell_type": "code",
      "source": [
        "#AGENT\n",
        "\n",
        "pizza_agent = ConversableAgent(\n",
        "    name = \"Pizza_lover\",\n",
        "    system_message = \"You are a preson who loves pizza and wants to spread its delicious around the world.Speak passionately about the alure of pizza \",\n",
        "    llm_config = {\"config_list\" : config_list_gemini},\n",
        "    human_input_mode = \"ALWAYS\"\n",
        "\n",
        ")"
      ],
      "metadata": {
        "id": "pQnVJhVqA8r0"
      },
      "execution_count": 19,
      "outputs": []
    },
    {
      "cell_type": "code",
      "source": [
        "sushi_agent = ConversableAgent(\n",
        "    name = \"Sushi_lover\",\n",
        "    system_message = \"You are a preson who loves sushi and wants to spread its delicious around the world.Speak passionately about the alure of sushi \",\n",
        "    llm_config = {\"config_list\" : config_list_gemini},\n",
        "    human_input_mode = \"NEVER\"\n",
        ")"
      ],
      "metadata": {
        "id": "z08wIltVBcvD"
      },
      "execution_count": 20,
      "outputs": []
    },
    {
      "cell_type": "code",
      "source": [
        "judge_agent = ConversableAgent(\n",
        "    name = \"Judge_agent\",\n",
        "    system_message=\"You are judge who giudes the debate between the two and declare the winner based on their debate and maintain this debate in organic way and you must declare one winner in the debate\",\n",
        "    llm_config = {\"config_list\" : config_list_gemini},\n",
        "    human_input_mode = \"NEVER\",\n",
        "    is_termination_msg= lambda msg : \"that's enough!\" in msg[\"content\"]\n",
        "\n",
        ")"
      ],
      "metadata": {
        "id": "eBQGcz6xBteH"
      },
      "execution_count": 21,
      "outputs": []
    },
    {
      "cell_type": "code",
      "source": [
        "pizza_agent.description = \"The utlimate pizza fan\"\n",
        "sushi_agent.description = \"The ultimate sushi fan\"\n",
        "judge_agent.description = \"The judge of the debate\""
      ],
      "metadata": {
        "id": "lPKQ9vHYCTgg"
      },
      "execution_count": 22,
      "outputs": []
    },
    {
      "cell_type": "code",
      "source": [
        "from autogen import GroupChat, GroupChatManager\n",
        "\n",
        "groupchat = GroupChat(\n",
        "    agents = [pizza_agent,sushi_agent,judge_agent],\n",
        "    messages = [],\n",
        "    send_introductions = True,\n",
        "    speaker_selection_method = \"auto\",\n",
        "    max_round = 10\n",
        ")\n",
        "manager = GroupChatManager(\n",
        "    groupchat = groupchat,\n",
        "    llm_config = {\"config_list\" : config_list_gemini}\n",
        ")\n",
        "\n",
        "\n"
      ],
      "metadata": {
        "id": "5CAMTYn0CZ3C"
      },
      "execution_count": 25,
      "outputs": []
    },
    {
      "cell_type": "code",
      "source": [
        "chat_result = judge_agent.initiate_chat(\n",
        "    manager,\n",
        "    message = \"Let's Start the debate!\",\n",
        "    summary_method = \"reflection_with_llm\"\n",
        ")"
      ],
      "metadata": {
        "colab": {
          "base_uri": "https://localhost:8080/",
          "height": 748
        },
        "id": "X5w3nh2qCtT_",
        "outputId": "f8260661-3f0b-4461-edc4-fe612d3cfaeb"
      },
      "execution_count": 27,
      "outputs": [
        {
          "name": "stdout",
          "output_type": "stream",
          "text": [
            "Judge_agent (to chat_manager):\n",
            "\n",
            "Let's Start the debate!\n",
            "\n",
            "--------------------------------------------------------------------------------\n",
            "\n",
            "Next speaker: Judge_agent\n",
            "\n",
            "Judge_agent (to chat_manager):\n",
            "\n",
            "A warm welcome to Pizza_Lover and Sushi_Lover!  This culinary clash is one for the ages.  As your Judge, I'm eager to hear your passionate arguments for your favourite dishes.  \n",
            "\n",
            "Remember, while spirited debate is encouraged, let's keep it respectful and focused on the food.  May the tastiest dish win! 🍕🍣 \n",
            "\n",
            "Who will make the first opening statement? Sushi_Lover, perhaps you'd like to serve up your case? \n",
            "\n",
            "\n",
            "--------------------------------------------------------------------------------\n",
            "\n",
            "Next speaker: Sushi_lover\n",
            "\n",
            "Sushi_lover (to chat_manager):\n",
            "\n",
            "Hello everyone, and thank you, Judge_agent, for this opportunity!  Pizza_Lover, it's an honor to be beside you in this battle of culinary titans. \n",
            "\n",
            "But let's be real, there's no *battle* here.  Sushi, my friends, is not just food, it's an experience. \n",
            "\n",
            "Imagine this:  Delicate slices of the freshest fish, glistening like jewels, draped over perfectly seasoned rice.  Each bite is a symphony of textures and flavors - the cool, buttery fish, the slight tang of the rice, the burst of umami from a touch of soy sauce and wasabi.  \n",
            "\n",
            "Sushi is art on a plate.  The chefs are artisans, their knives dancing with precision, creating edible masterpieces.  It's about balance - the balance of flavors, textures, colors, and even temperatures. \n",
            "\n",
            "And the best part?  Sushi's journey never ends! From the classic nigiri to the adventurous sashimi, from the playful rolls to the delicate hand rolls, there's a sushi out there for everyone. \n",
            "\n",
            "So, Pizza_Lover, while I respect your love for melted cheese and dough, I'm here to show the world that sushi is more than just food – it's a delicious, elegant, and exciting adventure for your palate. 🍣 🌎❤️ \n",
            "\n",
            "\n",
            "--------------------------------------------------------------------------------\n",
            "\n",
            "Next speaker: Pizza_lover\n",
            "\n",
            "Replying as Pizza_lover. Provide feedback to chat_manager. Press enter to skip and use auto-reply, or type 'exit' to end the conversation: exit\n"
          ]
        }
      ]
    },
    {
      "cell_type": "code",
      "source": [],
      "metadata": {
        "id": "DkoQJJOCFfId"
      },
      "execution_count": null,
      "outputs": []
    }
  ]
}